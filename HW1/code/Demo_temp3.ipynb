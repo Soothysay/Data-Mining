{
 "cells": [
  {
   "cell_type": "code",
   "execution_count": 24,
   "id": "76f1a760",
   "metadata": {},
   "outputs": [
    {
     "name": "stdout",
     "output_type": "stream",
     "text": [
      "CODE?BODY\n",
      "NUM?ANY\n",
      "LENGTH OF QUERY?1\n",
      "ENTER ELEMENTgene10_down\n",
      "CODE?HEAD\n",
      "NUM?1\n",
      "LENGTH OF QUERY?1\n",
      "ENTER ELEMENTgene59_up\n"
     ]
    }
   ],
   "source": [
    "#!/usr/bin/env python3\n",
    "# -*- coding: utf-8 -*-\n",
    "\"\"\"\n",
    "Created on Sat Sep 17 15:36:09 2022\n",
    "\n",
    "@author: akashchoudhuri\n",
    "\"\"\"\n",
    "\n",
    "from Template1 import temp1\n",
    "from Template2 import temp2\n",
    "support=50\n",
    "confidence=70\n",
    "op='1 and 1'\n",
    "op1=list(op.split(' '))\n",
    "answers=[]\n",
    "if op1[0]=='1':\n",
    "    code=input('CODE?')\n",
    "    num=input('NUM?')\n",
    "    query_ele=[]\n",
    "    l=int(input('LENGTH OF QUERY?'))\n",
    "    for j in range(l):\n",
    "        query_ele.append(input('ENTER ELEMENT'))\n",
    "    if num.isdigit():\n",
    "        num=int(num)\n",
    "    answer1,_=temp1(support,confidence,code,num,query_ele)\n",
    "if op1[0]=='2':\n",
    "    code=input('CODE?')\n",
    "    num=int(input('NUM?'))\n",
    "    answer1,_=temp2(support,confidence,code,num)\n",
    "if op1[2]=='1':\n",
    "    code=input('CODE?')\n",
    "    num=input('NUM?')\n",
    "    query_ele=[]\n",
    "    l=int(input('LENGTH OF QUERY?'))\n",
    "    for j in range(l):\n",
    "        query_ele.append(input('ENTER ELEMENT'))\n",
    "    if num.isdigit():\n",
    "        num=int(num)\n",
    "    answer2,_=temp1(support,confidence,code,num,query_ele)\n",
    "if op1[2]=='2':\n",
    "    code=input('CODE?')\n",
    "    num=int(input('NUM?'))\n",
    "    answer2,_=temp2(support,confidence,code,num)\n",
    "if op1[1]=='or':\n",
    "    answers=answer1\n",
    "    for a2 in answer2:\n",
    "        p=0\n",
    "        for a in answers:\n",
    "            if a2==a:\n",
    "                p=1\n",
    "                break\n",
    "        if p==0:\n",
    "            answers.append(a2)\n",
    "if op1[1]=='and':\n",
    "    for a2 in answer2:\n",
    "        p=0\n",
    "        for a1 in answer1:\n",
    "            if a2==a1:\n",
    "                p=1\n",
    "                answers.append(a2)\n",
    "                break\n",
    "            "
   ]
  },
  {
   "cell_type": "code",
   "execution_count": 25,
   "id": "0743d669",
   "metadata": {},
   "outputs": [
    {
     "data": {
      "text/plain": [
       "1"
      ]
     },
     "execution_count": 25,
     "metadata": {},
     "output_type": "execute_result"
    }
   ],
   "source": [
    "len(answers)"
   ]
  },
  {
   "cell_type": "code",
   "execution_count": 26,
   "id": "6e73174c",
   "metadata": {},
   "outputs": [
    {
     "data": {
      "text/plain": [
       "[[['gene10_down'], ['gene59_up']]]"
      ]
     },
     "execution_count": 26,
     "metadata": {},
     "output_type": "execute_result"
    }
   ],
   "source": [
    "answers"
   ]
  }
 ],
 "metadata": {
  "kernelspec": {
   "display_name": "Python 3 (ipykernel)",
   "language": "python",
   "name": "python3"
  },
  "language_info": {
   "codemirror_mode": {
    "name": "ipython",
    "version": 3
   },
   "file_extension": ".py",
   "mimetype": "text/x-python",
   "name": "python",
   "nbconvert_exporter": "python",
   "pygments_lexer": "ipython3",
   "version": "3.9.12"
  }
 },
 "nbformat": 4,
 "nbformat_minor": 5
}
